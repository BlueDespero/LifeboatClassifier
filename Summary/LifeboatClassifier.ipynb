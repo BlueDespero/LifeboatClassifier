{
  "nbformat": 4,
  "nbformat_minor": 0,
  "metadata": {
    "colab": {
      "name": "LifeboatClassifier.ipynb",
      "provenance": [],
      "toc_visible": true
    },
    "kernelspec": {
      "name": "python3",
      "display_name": "Python 3"
    },
    "language_info": {
      "name": "python"
    }
  },
  "cells": [
    {
      "cell_type": "markdown",
      "source": [
        "# Main subject\n",
        "```python\n",
        "# This chapter will contain:\n",
        "#     - short describtion of problem\n",
        "#     - short describtion of dataset\n",
        "#     - our main goals and questions that we want to answer\n",
        "```"
      ],
      "metadata": {
        "id": "FAM3on-XIjF-"
      }
    },
    {
      "cell_type": "markdown",
      "source": [
        "# Our approaches"
      ],
      "metadata": {
        "id": "FuGgtKy3Iy7L"
      }
    },
    {
      "cell_type": "markdown",
      "source": [
        "## K-nearest neighbours\n",
        "```python\n",
        "# Short describtion of the method and how we applied it to our problem\n",
        "```"
      ],
      "metadata": {
        "id": "ARqNFhlrI27E"
      }
    },
    {
      "cell_type": "markdown",
      "source": [
        "## Naive Bayes Classifier\n",
        "```python\n",
        "# Short describtion of the method and how we applied it to our problem\n",
        "```"
      ],
      "metadata": {
        "id": "Ia8g7pAdI6L-"
      }
    },
    {
      "cell_type": "markdown",
      "source": [
        "## Decision Trees\n",
        "```python\n",
        "# This will be main point of our project. It will containt all tree-based approches:\n",
        "#     - Simple decision tree\n",
        "#     - Random forests\n",
        "#     - Boosted methods\n",
        "```"
      ],
      "metadata": {
        "id": "3xIsU5ySJBDE"
      }
    },
    {
      "cell_type": "markdown",
      "source": [
        "# Summary\n",
        "```python\n",
        "# This chapter will contain:\n",
        "#     - comparison of scors of all our algorithms\n",
        "#     - our score in whole contest\n",
        "#     - possible future development directions\n",
        "```"
      ],
      "metadata": {
        "id": "-w-rEG2bJFwd"
      }
    }
  ]
}